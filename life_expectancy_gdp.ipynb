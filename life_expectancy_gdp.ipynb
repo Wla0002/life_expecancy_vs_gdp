{
 "cells": [
  {
   "cell_type": "code",
   "execution_count": 2,
   "metadata": {},
   "outputs": [
    {
     "data": {
      "text/html": [
       "<div>\n",
       "<style scoped>\n",
       "    .dataframe tbody tr th:only-of-type {\n",
       "        vertical-align: middle;\n",
       "    }\n",
       "\n",
       "    .dataframe tbody tr th {\n",
       "        vertical-align: top;\n",
       "    }\n",
       "\n",
       "    .dataframe thead th {\n",
       "        text-align: right;\n",
       "    }\n",
       "</style>\n",
       "<table border=\"1\" class=\"dataframe\">\n",
       "  <thead>\n",
       "    <tr style=\"text-align: right;\">\n",
       "      <th></th>\n",
       "      <th>Country</th>\n",
       "      <th>Year</th>\n",
       "      <th>Life expectancy at birth (years)</th>\n",
       "      <th>GDP</th>\n",
       "    </tr>\n",
       "  </thead>\n",
       "  <tbody>\n",
       "    <tr>\n",
       "      <th>0</th>\n",
       "      <td>Chile</td>\n",
       "      <td>2000</td>\n",
       "      <td>77.3</td>\n",
       "      <td>7.786093e+10</td>\n",
       "    </tr>\n",
       "    <tr>\n",
       "      <th>1</th>\n",
       "      <td>Chile</td>\n",
       "      <td>2001</td>\n",
       "      <td>77.3</td>\n",
       "      <td>7.097992e+10</td>\n",
       "    </tr>\n",
       "    <tr>\n",
       "      <th>2</th>\n",
       "      <td>Chile</td>\n",
       "      <td>2002</td>\n",
       "      <td>77.8</td>\n",
       "      <td>6.973681e+10</td>\n",
       "    </tr>\n",
       "    <tr>\n",
       "      <th>3</th>\n",
       "      <td>Chile</td>\n",
       "      <td>2003</td>\n",
       "      <td>77.9</td>\n",
       "      <td>7.564346e+10</td>\n",
       "    </tr>\n",
       "    <tr>\n",
       "      <th>4</th>\n",
       "      <td>Chile</td>\n",
       "      <td>2004</td>\n",
       "      <td>78.0</td>\n",
       "      <td>9.921039e+10</td>\n",
       "    </tr>\n",
       "  </tbody>\n",
       "</table>\n",
       "</div>"
      ],
      "text/plain": [
       "  Country  Year  Life expectancy at birth (years)           GDP\n",
       "0   Chile  2000                              77.3  7.786093e+10\n",
       "1   Chile  2001                              77.3  7.097992e+10\n",
       "2   Chile  2002                              77.8  6.973681e+10\n",
       "3   Chile  2003                              77.9  7.564346e+10\n",
       "4   Chile  2004                              78.0  9.921039e+10"
      ]
     },
     "execution_count": 2,
     "metadata": {},
     "output_type": "execute_result"
    }
   ],
   "source": [
    "import pandas as pd\n",
    "import matplotlib.pyplot as plt\n",
    "import seaborn as sns\n",
    "import numpy as np\n",
    "import statsmodels.api as sm\n",
    "from scipy.stats import pearsonr\n",
    "data = pd.read_csv('all_data.csv')\n",
    "data.head()"
   ]
  },
  {
   "cell_type": "markdown",
   "metadata": {},
   "source": [
    "EDA"
   ]
  },
  {
   "cell_type": "markdown",
   "metadata": {},
   "source": [
    "Average gdp per country, average life expectancy"
   ]
  },
  {
   "cell_type": "code",
   "execution_count": 3,
   "metadata": {},
   "outputs": [
    {
     "name": "stdout",
     "output_type": "stream",
     "text": [
      "{'Chile': [78.94374999999998, 169788845015.3125], 'China': [74.26249999999999, 4957713750000.0], 'Germany': [79.65625, 3094775625000.0], 'Mexico': [75.71875, 976650625000.0], 'United States of America': [78.0625, 14075000000000.0], 'Zimbabwe': [50.09375000000001, 9062579595.0625]}\n"
     ]
    }
   ],
   "source": [
    "chile_avg = data.GDP[data.Country == 'Chile'].mean()\n",
    "unique_countries = data.Country.unique()\n",
    "countries_avg_gdp = []\n",
    "countries_avg_life_expectancy = []\n",
    "\n",
    "for country in unique_countries:\n",
    "    countries_avg_gdp.append(data.GDP[data.Country == country].mean())\n",
    "    countries_avg_life_expectancy.append(data['Life expectancy at birth (years)'][data.Country == country].mean())\n",
    "\n",
    "countries_gdp_avg_dict = {i: [j,k] for i,j,k in zip(unique_countries, countries_avg_life_expectancy, countries_avg_gdp)}\n",
    "print(countries_gdp_avg_dict)"
   ]
  },
  {
   "cell_type": "code",
   "execution_count": 7,
   "metadata": {},
   "outputs": [
    {
     "data": {
      "image/png": "[encoded data removed]",
      "text/plain": [
       "<Figure size 432x288 with 1 Axes>"
      ]
     },
     "metadata": {
      "needs_background": "light"
     },
     "output_type": "display_data"
    },
    {
     "data": {
      "text/plain": [
       "<Figure size 432x288 with 0 Axes>"
      ]
     },
     "metadata": {},
     "output_type": "display_data"
    }
   ],
   "source": [
    "sns.scatterplot(x=data.Year, y=data.GDP, color=\"Blue\")\n",
    "plt.show()\n",
    "plt.savefig('1.year_vs_gdp.PNG')"
   ]
  },
  {
   "cell_type": "code",
   "execution_count": 10,
   "metadata": {},
   "outputs": [
    {
     "data": {
      "image/png": "[encoded data removed]",
      "text/plain": [
       "<Figure size 432x288 with 4 Axes>"
      ]
     },
     "metadata": {
      "needs_background": "light"
     },
     "output_type": "display_data"
    }
   ],
   "source": [
    "ax = plt.subplot(2,2,1)\n",
    "sns.scatterplot(x=data.Year, y=data.GDP[data.Country == 'United States of America'], color='#012766')\n",
    "ax.set_title('USA')\n",
    "ax1 = plt.subplot(2,2,2)\n",
    "sns.scatterplot(x=data.Year, y=data.GDP[data.Country == 'China'], color='#E71B24')\n",
    "ax1.set_title('China')\n",
    "ax2 = plt.subplot(2,2,3)\n",
    "ax2.set_title('Germany')\n",
    "sns.scatterplot(x=data.Year, y=data.GDP[data.Country == 'Germany'], color='#f7c800')\n",
    "ax3 = plt.subplot(2,2,4)\n",
    "sns.scatterplot(x=data.Year, y=data.GDP[data.Country == 'Mexico'], color='#006545')\n",
    "ax3.set_title('Mexico')\n",
    "plt.subplots_adjust(wspace=.35, hspace=.6)\n",
    "sns.scatterplot(x=data.Year, y=data.GDP[data.Country == 'Chile'], color='Black')\n",
    "ax3.set_title('Chile')\n",
    "plt.subplots_adjust(wspace=.35, hspace=.6)\n",
    "plt.savefig('2.subplot_yearvsgdp.PNG')"
   ]
  },
  {
   "cell_type": "code",
   "execution_count": 11,
   "metadata": {},
   "outputs": [
    {
     "data": {
      "image/png": "[encoded data removed]",
      "text/plain": [
       "<Figure size 432x288 with 5 Axes>"
      ]
     },
     "metadata": {
      "needs_background": "light"
     },
     "output_type": "display_data"
    }
   ],
   "source": [
    "ax = plt.subplot(3,2,1)\n",
    "sns.scatterplot(x=data.Year, y=data['Life expectancy at birth (years)'][data.Country == 'United States of America'], color='#012766')\n",
    "ax.set_title('USA')\n",
    "ax1 = plt.subplot(3,2,2)\n",
    "sns.scatterplot(x=data.Year, y=data['Life expectancy at birth (years)'][data.Country == 'China'], color='#E71B24')\n",
    "ax1.set_title('China')\n",
    "ax2 = plt.subplot(3,2,3)\n",
    "ax2.set_title('Germany')\n",
    "sns.scatterplot(x=data.Year, y=data['Life expectancy at birth (years)'][data.Country == 'Germany'], color='#f7c800')\n",
    "ax3 = plt.subplot(3,2,4)\n",
    "sns.scatterplot(x=data.Year, y=data['Life expectancy at birth (years)'][data.Country == 'Mexico'], color='#006545')\n",
    "ax3.set_title('Mexico')\n",
    "plt.subplots_adjust(wspace=.5, hspace=.1)\n",
    "ax4 = plt.subplot(3,2,5)\n",
    "sns.scatterplot(x=data.Year, y=data['Life expectancy at birth (years)'][data.Country == 'Zimbabwe'], color='#000000')\n",
    "ax4.set_title('Zimbabwe')\n",
    "\n",
    "plt.savefig('3.subplot_year_vs_lifeexp.PNG')"
   ]
  },
  {
   "cell_type": "markdown",
   "metadata": {},
   "source": [
    "Life expectancy vs GDP regression per country"
   ]
  },
  {
   "cell_type": "markdown",
   "metadata": {},
   "source": [
    "**USA**"
   ]
  },
  {
   "cell_type": "code",
   "execution_count": 21,
   "metadata": {},
   "outputs": [
    {
     "data": {
      "image/png": "[encoded data removed]",
      "text/plain": [
       "<Figure size 432x288 with 1 Axes>"
      ]
     },
     "metadata": {
      "needs_background": "light"
     },
     "output_type": "display_data"
    }
   ],
   "source": [
    "# def regression(country, data)\n",
    "new_column_names = ['country', 'year', 'life_expectancy', 'gdp']\n",
    "data.columns = new_column_names\n",
    "model = sm.OLS.from_formula('life_expectancy ~ gdp', data=data[data.country =='United States of America'])\n",
    "results = model.fit()\n",
    "results.params\n",
    "multiplyer = {'13': 10000000000000, 12: 1000000000000}\n",
    "\n",
    "plt.scatter(data.gdp[data.country == 'United States of America'], data.life_expectancy[data.country == 'United States of America'])\n",
    "plt.plot(data.gdp, results.params[0]+results.params[1]*data.gdp)\n",
    "plt.axis([1.0*multiplyer['13'],1.8*multiplyer['13'],76,80])\n",
    "plt.plot()\n",
    "plt.savefig('regression_line.PNG')"
   ]
  },
  {
   "cell_type": "code",
   "execution_count": 22,
   "metadata": {},
   "outputs": [
    {
     "data": {
      "image/png": "[encoded data removed]",
      "text/plain": [
       "<Figure size 432x288 with 1 Axes>"
      ]
     },
     "metadata": {
      "needs_background": "light"
     },
     "output_type": "display_data"
    }
   ],
   "source": [
    "fitted_values = results.predict(data[data.country =='United States of America'])\n",
    "residuals = data.life_expectancy[data.country =='United States of America'] - fitted_values\n",
    "plt.hist(residuals)\n",
    "plt.savefig('normality_test.PNG')"
   ]
  },
  {
   "cell_type": "code",
   "execution_count": 23,
   "metadata": {},
   "outputs": [
    {
     "data": {
      "image/png": "[encoded data removed]",
      "text/plain": [
       "<Figure size 432x288 with 1 Axes>"
      ]
     },
     "metadata": {
      "needs_background": "light"
     },
     "output_type": "display_data"
    }
   ],
   "source": [
    "plt.scatter(fitted_values, residuals)\n",
    "plt.savefig('homoscedasticity.PNG')"
   ]
  },
  {
   "cell_type": "markdown",
   "metadata": {},
   "source": [
    "**Covariance, Correlation**"
   ]
  },
  {
   "cell_type": "code",
   "execution_count": 15,
   "metadata": {},
   "outputs": [
    {
     "name": "stdout",
     "output_type": "stream",
     "text": [
      "0.343206748449156 0.0006187129569469811\n"
     ]
    }
   ],
   "source": [
    "np.cov(data.life_expectancy, data.gdp)\n",
    "\n",
    "corr_life_expectancy_gdp, p = pearsonr(data.life_expectancy, data.gdp)\n",
    "print(corr_life_expectancy_gdp, p)"
   ]
  },
  {
   "cell_type": "markdown",
   "metadata": {},
   "source": [
    "- Strong correlation\n",
    "- strong covariance"
   ]
  },
  {
   "cell_type": "code",
   "execution_count": 16,
   "metadata": {},
   "outputs": [
    {
     "name": "stdout",
     "output_type": "stream",
     "text": [
      "0.9817092382430257\n",
      "0.932698898256127\n",
      "0.9085255408648357\n",
      "0.932237716784708\n",
      "0.9661998955858778\n",
      "0.9498766659254412\n"
     ]
    }
   ],
   "source": [
    "corr_life_expectancy_usa, p = pearsonr(data.life_expectancy[data.country == 'United States of America'], data.gdp[(data.country == 'United States of America')])\n",
    "print(corr_life_expectancy_usa)\n",
    "corr_life_expectancy_germany, p = pearsonr(data.life_expectancy[data.country == 'Germany'], data.gdp[(data.country == 'Germany')])\n",
    "print(corr_life_expectancy_germany)\n",
    "corr_life_expectancy_china, p = pearsonr(data.life_expectancy[data.country == 'China'], data.gdp[(data.country == 'China')])\n",
    "print(corr_life_expectancy_china)\n",
    "corr_life_expectancy_mexico, p = pearsonr(data.life_expectancy[data.country == 'Mexico'], data.gdp[(data.country == 'Mexico')])\n",
    "print(corr_life_expectancy_mexico)\n",
    "corr_life_expectancy_zimbabwe, p = pearsonr(data.life_expectancy[data.country == 'Zimbabwe'], data.gdp[(data.country == 'Zimbabwe')])\n",
    "print(corr_life_expectancy_zimbabwe)\n",
    "corr_life_expectancy_chile, p = pearsonr(data.life_expectancy[data.country == 'Chile'], data.gdp[(data.country == 'Chile')])\n",
    "print(corr_life_expectancy_chile)"
   ]
  },
  {
   "cell_type": "markdown",
   "metadata": {},
   "source": [
    "Correlation is more significant in countries with lower GDP"
   ]
  },
  {
   "cell_type": "code",
   "execution_count": 17,
   "metadata": {},
   "outputs": [
    {
     "name": "stdout",
     "output_type": "stream",
     "text": [
      "['Chile' 'China' 'Germany' 'Mexico' 'United States of America' 'Zimbabwe']\n"
     ]
    },
    {
     "data": {
      "text/plain": [
       "[]"
      ]
     },
     "execution_count": 17,
     "metadata": {},
     "output_type": "execute_result"
    },
    {
     "data": {
      "image/png": "[encoded data removed]",
      "text/plain": [
       "<Figure size 432x288 with 1 Axes>"
      ]
     },
     "metadata": {
      "needs_background": "light"
     },
     "output_type": "display_data"
    }
   ],
   "source": [
    "correlation_array = np.array([corr_life_expectancy_usa, corr_life_expectancy_germany, corr_life_expectancy_china, corr_life_expectancy_mexico, corr_life_expectancy_zimbabwe, corr_life_expectancy_chile])\n",
    "gdp_mean_array = []\n",
    "\n",
    "\n",
    "for country in data.country.unique():\n",
    "    gdp_mean_array.append(data.gdp[data.country == country].mean())\n",
    "print(data.country.unique())\n",
    "\n",
    "sns.scatterplot(x=gdp_mean_array, y=correlation_array)\n",
    "plt.plot()"
   ]
  },
  {
   "cell_type": "markdown",
   "metadata": {},
   "source": [
    "- it is interesting to see that the signifancy of correlation is not completely correlative to average GDP, maybe this is due to the methods of data aquired.\n"
   ]
  },
  {
   "cell_type": "code",
   "execution_count": 18,
   "metadata": {},
   "outputs": [
    {
     "name": "stdout",
     "output_type": "stream",
     "text": [
      "0.1612878577505496 0.7601660662384232\n"
     ]
    }
   ],
   "source": [
    "corr_correlation_mean_gdp, p = pearsonr(correlation_array, gdp_mean_array)\n",
    "print(corr_correlation_mean_gdp, p)"
   ]
  },
  {
   "cell_type": "markdown",
   "metadata": {},
   "source": [
    "- this is still correlative, but we are stretching it a little."
   ]
  },
  {
   "cell_type": "code",
   "execution_count": 24,
   "metadata": {},
   "outputs": [
    {
     "data": {
      "image/png": "[encoded data removed]",
      "text/plain": [
       "<Figure size 720x576 with 1 Axes>"
      ]
     },
     "metadata": {
      "needs_background": "light"
     },
     "output_type": "display_data"
    }
   ],
   "source": [
    "plt.figure(figsize=(10,8))\n",
    "plt.hist(data.life_expectancy, histtype='step')\n",
    "plt.savefig('life_expectanct_hist.PNG')"
   ]
  },
  {
   "cell_type": "code",
   "execution_count": 20,
   "metadata": {},
   "outputs": [
    {
     "data": {
      "text/plain": [
       "(array([52., 16.,  6.,  1.,  2.,  4.,  4.,  3.,  5.,  3.]),\n",
       " array([4.41570280e+09, 1.81397413e+12, 3.62353256e+12, 5.43309099e+12,\n",
       "        7.24264942e+12, 9.05220785e+12, 1.08617663e+13, 1.26713247e+13,\n",
       "        1.44808831e+13, 1.62904416e+13, 1.81000000e+13]),\n",
       " <BarContainer object of 10 artists>)"
      ]
     },
     "execution_count": 20,
     "metadata": {},
     "output_type": "execute_result"
    },
    {
     "data": {
      "image/png": "[encoded data removed]",
      "text/plain": [
       "<Figure size 720x576 with 1 Axes>"
      ]
     },
     "metadata": {
      "needs_background": "light"
     },
     "output_type": "display_data"
    }
   ],
   "source": [
    "plt.figure(figsize=(10,8))\n",
    "plt.hist(data.gdp)\n",
    "plt.savefig('')"
   ]
  }
 ],
 "metadata": {
  "kernelspec": {
   "display_name": "Python 3 (ipykernel)",
   "language": "python",
   "name": "python3"
  },
  "language_info": {
   "codemirror_mode": {
    "name": "ipython",
    "version": 3
   },
   "file_extension": ".py",
   "mimetype": "text/x-python",
   "name": "python",
   "nbconvert_exporter": "python",
   "pygments_lexer": "ipython3",
   "version": "3.9.12"
  }
 },
 "nbformat": 4,
 "nbformat_minor": 4
}
